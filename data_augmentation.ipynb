{
 "cells": [
  {
   "cell_type": "code",
   "execution_count": null,
   "metadata": {},
   "outputs": [],
   "source": [
    "import tensorflow\n",
    "import imgaug as ia\n",
    "from imgaug import augmenters as iaa\n",
    "import imageio\n",
    "import numpy as np\n",
    "import skimage\n",
    "import cv2\n",
    "from PIL import Image\n",
    "from matplotlib import pyplot as plt\n",
    "from os import listdir\n",
    "from os.path import isfile, join"
   ]
  },
  {
   "cell_type": "markdown",
   "metadata": {},
   "source": [
    "## Input parameters"
   ]
  },
  {
   "cell_type": "code",
   "execution_count": null,
   "metadata": {},
   "outputs": [],
   "source": [
    "images_path = \"./images/cvc/training/images/\"\n",
    "labels_path = \"./images/cvc/training/labels/\"\n",
    "image_out_path = \"./images/cvc/training_augmented/images/\"\n",
    "label_out_path = \"./images/cvc/training_augmented/labels/\"\n",
    "show_on_image = \"./images/cvc/training_augmented/overlay/\"\n",
    "n_classes = 1+6\n",
    "aug_num = 10"
   ]
  },
  {
   "cell_type": "markdown",
   "metadata": {},
   "source": [
    "## Program"
   ]
  },
  {
   "cell_type": "code",
   "execution_count": null,
   "metadata": {},
   "outputs": [],
   "source": [
    "image_files = [f for f in listdir(images_path) if isfile(join(images_path, f))]\n",
    "label_files = [f for f in listdir(labels_path) if isfile(join(labels_path, f))]\n",
    "\n",
    "if '.DS_Store' in image_files:\n",
    "    image_files.remove('.DS_Store')\n",
    "if '.DS_Store' in label_files:\n",
    "    label_files.remove('.DS_Store')\n",
    "    \n",
    "image_files.sort()\n",
    "label_files.sort()\n",
    "assert(len(image_files) == len(label_files))\n",
    "n_items = len(label_files)\n",
    "print(\"Number of input images: \", n_items)"
   ]
  },
  {
   "cell_type": "code",
   "execution_count": null,
   "metadata": {},
   "outputs": [],
   "source": [
    "# img_buffer = [None]*n_items*aug_num\n",
    "# seg_buffer = [None]*n_items*aug_num\n",
    "# overlay_buffer = [None]*n_items*aug_num\n",
    "\n",
    "for i in range(n_items):\n",
    "    \n",
    "    print(\"Processing image \", i, \": \", image_files[i])\n",
    "    image = cv2.imread(join(images_path, image_files[i]))\n",
    "    label = cv2.imread(join(labels_path, label_files[i]))\n",
    "    segmap = label.astype(np.int32)\n",
    "    segmap = segmap[:,:,0]\n",
    "    segmap = ia.SegmentationMapOnImage(segmap, shape=image.shape, nb_classes=n_classes)\n",
    "    \n",
    "    # transformation types\n",
    "    seq = iaa.Sequential([\n",
    "    iaa.Fliplr(0.5), \n",
    "    iaa.Flipud(0.5),      \n",
    "    iaa.Affine(rotate=[90, 180, 270], \n",
    "               scale={\"x\": (0.75, 1.25), \"y\": (0.75, 1.25)}, \n",
    "               translate_percent={\"x\": (-0.2, 0.2), \"y\": (-0.2, 0.2)}, mode='constant', cval=255)], random_order=True)\n",
    "    \n",
    "    # transform into 20 images\n",
    "    for j in range(aug_num):\n",
    "        print(\"  Transformation \", j)\n",
    "        seq_det = seq.to_deterministic()\n",
    "        img = seq_det.augment_image(image)\n",
    "        seg_out = seq_det.augment_segmentation_maps([segmap])[0].get_arr_int()\n",
    "        seg_overlay = seq_det.augment_segmentation_maps([segmap])[0].draw_on_image(img)\n",
    "        \n",
    "        image_out = image_out_path + image_files[i][:-4] + '_' + str(j) + '.jpg'\n",
    "        label_out = label_out_path + image_files[i][:-4] + '_' + str(j) + '.png'\n",
    "        overlay_out = show_on_image + image_files[i][:-4] + '_' + str(j) + '.png'\n",
    "        \n",
    "        # save images\n",
    "        im = Image.fromarray(img.astype(np.uint8))\n",
    "#         img_buffer[i*aug_num + j] = im\n",
    "        im.save(image_out)\n",
    "        \n",
    "        # save segmentations\n",
    "        sg = Image.fromarray(seg_out.astype(np.uint8))\n",
    "#         seg_buffer[i*aug_num + j] = sg\n",
    "        sg.save(label_out)\n",
    "        \n",
    "        # save overlay for verification\n",
    "        sv = Image.fromarray(seg_overlay.astype(np.uint8))\n",
    "#         overlay_buffer[i*aug_num + j] = sv\n",
    "        sv.save(overlay_out)"
   ]
  },
  {
   "cell_type": "code",
   "execution_count": null,
   "metadata": {},
   "outputs": [],
   "source": [
    "\n",
    "\n",
    "for i in range(n_items):\n",
    "    \n",
    "    print(\"Saving image \", i, \": \", image_files[i])\n",
    "\n",
    "    # transform into 20 images\n",
    "    for j in range(aug_num):\n",
    "        print(\"Saving  Transformation \", j)\n",
    "        \n",
    "        \n",
    "        image_out = image_out_path + image_files[i][:-4] + '_' + str(j) + '.jpg'\n",
    "        label_out = label_out_path + image_files[i][:-4] + '_' + str(j) + '.png'\n",
    "        overlay_out = show_on_image + image_files[i][:-4] + '_' + str(j) + '.png'\n",
    "        \n",
    "        # save images\n",
    "        im = img_buffer[i*aug_num + j]\n",
    "        im.save(image_out)\n",
    "        \n",
    "        # save segmentations\n",
    "        sg = seg_buffer[i*aug_num + j]\n",
    "        sg.save(label_out)\n",
    "        \n",
    "        # save overlay for verification\n",
    "        sv = overlay_buffer[i*aug_num + j]\n",
    "        sv.save(overlay_out)"
   ]
  }
 ],
 "metadata": {
  "kernelspec": {
   "display_name": "Python [conda root]",
   "language": "python",
   "name": "conda-root-py"
  },
  "language_info": {
   "codemirror_mode": {
    "name": "ipython",
    "version": 3
   },
   "file_extension": ".py",
   "mimetype": "text/x-python",
   "name": "python",
   "nbconvert_exporter": "python",
   "pygments_lexer": "ipython3",
   "version": "3.5.6"
  }
 },
 "nbformat": 4,
 "nbformat_minor": 2
}
